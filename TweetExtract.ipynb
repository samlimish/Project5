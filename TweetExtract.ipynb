{
 "cells": [
  {
   "cell_type": "code",
   "execution_count": 2,
   "metadata": {
    "ExecuteTime": {
     "end_time": "2021-07-22T20:40:58.144870Z",
     "start_time": "2021-07-22T20:40:57.325898Z"
    }
   },
   "outputs": [],
   "source": [
    "import tweepy as tw\n",
    "import pandas as pd\n",
    "import json\n",
    "import csv\n",
    "from datetime import date\n",
    "from datetime import datetime\n",
    "import time\n",
    "import numpy as np\n",
    "import re\n",
    "import html\n",
    "import matplotlib.pyplot as plt\n",
    "import string\n"
   ]
  },
  {
   "cell_type": "code",
   "execution_count": null,
   "metadata": {},
   "outputs": [],
   "source": [
    "AccessToken='978110646494560258-hZ8uu9l2e2BsZasvicyiud3YswS3hKu'\n",
    "AccessSecretToken='8TE4L8eDUGlQFhEYG5Lr7VvbgxbW9EWZOyd9WQvjl8g4L'\n",
    "APIKey='3zCu2tbqCpnkyHLb9gOVg9U2J'\n",
    "APISecretKey='h7NBz1Xk346UoYNLrTv3WVZvQrjnKYRYHVamtFNykbQKAuy1N7'\n",
    "BearerToken='AAAAAAAAAAAAAAAAAAAAABuoRAEAAAAAF4BVejhqUHFb%2FmiQOjo%2FyDxIK8c%3D4p4rH6Hz6ucEJeYTx4D2s7LB7hAbM7bNjtZ8ZyQ5vXcrJtgsCn'"
   ]
  },
  {
   "cell_type": "code",
   "execution_count": null,
   "metadata": {},
   "outputs": [],
   "source": [
    "# tweet_csv=open('data/tweet.csv', 'w+', encoding='utf-8') #w+ if there's an error and you need the data wiped\n",
    "tweet_csv=open('data/tweet.csv', 'w', encoding='utf-8') #w if just adding/opening the data\n",
    "csv_writer=csv.writer(tweet_csv)"
   ]
  },
  {
   "cell_type": "code",
   "execution_count": null,
   "metadata": {},
   "outputs": [],
   "source": [
    "# Apple\n",
    "apple_search_words='#Apple OR Apple OR #iPhone OR iPhone \\\n",
    "-AppStore -pie -games -game -juice -Android -Google -\"Big Apple\" -gala -giveaway -vinegar -cider\\\n",
    "-filter:retweets -url:amazon'\n",
    "date_since='2018-10-06'\n",
    "\n",
    "apple_tweets = tw.Cursor(api.search,\n",
    "                  tweet_mode='extended',\n",
    "                  q=apple_search_words,\n",
    "                  lang=\"en\",\n",
    "                  include_card_uri=False, \n",
    "                  since=date_since).items(1500)\n",
    "# tweets"
   ]
  },
  {
   "cell_type": "code",
   "execution_count": null,
   "metadata": {},
   "outputs": [],
   "source": [
    "tweet_list=[]\n",
    "for tweet in apple_tweets:\n",
    "    tweet_list.append(tweet._json)\n",
    "# tweet_list[0]"
   ]
  },
  {
   "cell_type": "code",
   "execution_count": null,
   "metadata": {},
   "outputs": [],
   "source": [
    "# Google\n",
    "google_search_words= '#Google OR Google \\\n",
    "-Apple -android\\\n",
    "-filter:retweets -url:amazon'\n",
    "google_tweets = tw.Cursor(api.search,\n",
    "                  tweet_mode='extended',\n",
    "                  q=google_search_words,\n",
    "                  lang=\"en\",\n",
    "                  include_card_uri=False, \n",
    "                  since=date_since).items(1500)"
   ]
  },
  {
   "cell_type": "code",
   "execution_count": null,
   "metadata": {},
   "outputs": [],
   "source": [
    "for tweet in google_tweets:\n",
    "    tweet_list.append(tweet._json)"
   ]
  },
  {
   "cell_type": "code",
   "execution_count": null,
   "metadata": {},
   "outputs": [],
   "source": [
    "# Android\n",
    "android_search_words='#Android OR Android\\\n",
    "-Apple -Google -game -games -giveaway\\\n",
    "-filter:retweets -url:amazon'\n",
    "android_tweets = tw.Cursor(api.search,\n",
    "                  tweet_mode='extended',\n",
    "                  q=android_search_words,\n",
    "                  lang=\"en\",\n",
    "                  include_card_uri=False, \n",
    "                  since=date_since).items(1500)"
   ]
  },
  {
   "cell_type": "code",
   "execution_count": null,
   "metadata": {},
   "outputs": [],
   "source": [
    "for tweet in android_tweets:\n",
    "    tweet_list.append(tweet._json)"
   ]
  },
  {
   "cell_type": "code",
   "execution_count": null,
   "metadata": {},
   "outputs": [],
   "source": [
    "with open ('tweet_data.json', \"w\") as F:\n",
    "    json.dump(tweet_list, F)"
   ]
  },
  {
   "cell_type": "code",
   "execution_count": null,
   "metadata": {},
   "outputs": [],
   "source": [
    "with open ('tweet_data.json', \"r\") as F:\n",
    "    loaded_tweets=json.load(F)"
   ]
  }
 ],
 "metadata": {
  "kernelspec": {
   "display_name": "learn-env",
   "language": "python",
   "name": "learn-env"
  },
  "language_info": {
   "codemirror_mode": {
    "name": "ipython",
    "version": 3
   },
   "file_extension": ".py",
   "mimetype": "text/x-python",
   "name": "python",
   "nbconvert_exporter": "python",
   "pygments_lexer": "ipython3",
   "version": "3.8.5"
  },
  "toc": {
   "base_numbering": 1,
   "nav_menu": {},
   "number_sections": true,
   "sideBar": true,
   "skip_h1_title": false,
   "title_cell": "Table of Contents",
   "title_sidebar": "Contents",
   "toc_cell": false,
   "toc_position": {
    "height": "calc(100% - 180px)",
    "left": "10px",
    "top": "150px",
    "width": "349.091px"
   },
   "toc_section_display": true,
   "toc_window_display": true
  }
 },
 "nbformat": 4,
 "nbformat_minor": 4
}
